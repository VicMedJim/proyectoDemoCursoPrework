{
  "nbformat": 4,
  "nbformat_minor": 0,
  "metadata": {
    "colab": {
      "name": "EJERCICIO_SURA.ipynb",
      "provenance": [],
      "collapsed_sections": [],
      "authorship_tag": "ABX9TyP7bgAvm+XcmBMifyNhmXwF",
      "include_colab_link": true
    },
    "kernelspec": {
      "name": "python3",
      "display_name": "Python 3"
    },
    "language_info": {
      "name": "python"
    }
  },
  "cells": [
    {
      "cell_type": "markdown",
      "metadata": {
        "id": "view-in-github",
        "colab_type": "text"
      },
      "source": [
        "<a href=\"https://colab.research.google.com/github/VicMedJim/proyectoDemoCursoPrework/blob/main/EJERCICIO_SURA.ipynb\" target=\"_parent\"><img src=\"https://colab.research.google.com/assets/colab-badge.svg\" alt=\"Open In Colab\"/></a>"
      ]
    },
    {
      "cell_type": "markdown",
      "metadata": {
        "id": "8eNifV52ih00"
      },
      "source": [
        "**EJERCICIO - ANALISTA CUANTITATIVO**\n",
        "\n",
        "Para responder las siguientes preguntas utiliza R o python para hacer tu análisis.\n",
        "\n",
        "Se quiere analizar el fondo1 considerando 3 activos: MXWD, mbonos, mudis\n",
        "- **El Fondo 1, ¿a qué activo es más sensible?**\n",
        "\n",
        "Para responder la primera pregunta primero limpie la información, ya que teniamos espacios vacios y datos con \"#N/A\".\n",
        "Los casos vacios los sustituí por ceros y los casos con \"#N/A\" por la información anterior para no hacer un desvio de la información.\n",
        "Adicional, ya que existía información que impactaba, decidi reducir el periodo de la muestra para quitar outliers y la información mostrada es del 2006 a junio 2020.\n",
        "\n",
        "Lo cual repercutio en ofrecer una mejor coeficiente de correlación y de regresión lineal.\n",
        "\n",
        "Finalmente, para ver la sensibilidad y observar que activo tenia mayor impacto al **fondo1** realice una correlación entre variables. Resutando que la variable con mayor correlación era **mbonos** con una relación de 0.99.\n",
        "\n",
        "- **Si tuvieras que estimar como paga el fondo1 dado los otros activos. ¿Cuánto hubiera pagado Fondo1 al cierre de 2020?**\n",
        "\n",
        "Para responder la última pregunta realice una Regresión Lineal de la variables fondo1 como variable dependiente y mbonos como variable independiente.\n",
        "\n",
        "Por lo que al cierre del 2020 se pagaría por el **Fondo1 $17.515**\n",
        "\n",
        "\n"
      ]
    },
    {
      "cell_type": "code",
      "metadata": {
        "colab": {
          "base_uri": "https://localhost:8080/"
        },
        "id": "oPBvALkaFcBd",
        "outputId": "0f90a546-b6c0-4fe0-ddf1-b48124241ef5"
      },
      "source": [
        "from google.colab import drive\n",
        "drive.mount(\"/content/drive/\")"
      ],
      "execution_count": null,
      "outputs": [
        {
          "output_type": "stream",
          "text": [
            "Drive already mounted at /content/drive/; to attempt to forcibly remount, call drive.mount(\"/content/drive/\", force_remount=True).\n"
          ],
          "name": "stdout"
        }
      ]
    },
    {
      "cell_type": "code",
      "metadata": {
        "colab": {
          "base_uri": "https://localhost:8080/"
        },
        "id": "rE_5qjlyGKMT",
        "outputId": "a7172822-a31d-4cfb-a307-80a76909c4d1"
      },
      "source": [
        "%cd \"/content/drive/My Drive/Colab Notebooks/SURA\"\n",
        "!ls"
      ],
      "execution_count": null,
      "outputs": [
        {
          "output_type": "stream",
          "text": [
            "/content/drive/My Drive/Colab Notebooks/SURA\n",
            "Ejercicio_BD.csv  EJERCICIO_SURA.ipynb\n"
          ],
          "name": "stdout"
        }
      ]
    },
    {
      "cell_type": "code",
      "metadata": {
        "colab": {
          "base_uri": "https://localhost:8080/",
          "height": 34
        },
        "id": "92G0bJF6GU6O",
        "outputId": "b370941c-eed7-44d5-a0a3-bdb976425712"
      },
      "source": [
        "import pandas as pd\n",
        "import numpy as np\n",
        "pd.__version__"
      ],
      "execution_count": null,
      "outputs": [
        {
          "output_type": "execute_result",
          "data": {
            "application/vnd.google.colaboratory.intrinsic+json": {
              "type": "string"
            },
            "text/plain": [
              "'1.1.5'"
            ]
          },
          "metadata": {
            "tags": []
          },
          "execution_count": 3
        }
      ]
    },
    {
      "cell_type": "code",
      "metadata": {
        "colab": {
          "base_uri": "https://localhost:8080/",
          "height": 198
        },
        "id": "n7A7sn0wGWeE",
        "outputId": "743910c1-1ac5-4d4a-d683-e6f41c300f44"
      },
      "source": [
        "df_fondo =  pd.read_csv(\"/content/drive/My Drive/Colab Notebooks/SURA/Ejercicio_BD.csv\")\n",
        "df_fondo.head(5)"
      ],
      "execution_count": null,
      "outputs": [
        {
          "output_type": "execute_result",
          "data": {
            "text/html": [
              "<div>\n",
              "<style scoped>\n",
              "    .dataframe tbody tr th:only-of-type {\n",
              "        vertical-align: middle;\n",
              "    }\n",
              "\n",
              "    .dataframe tbody tr th {\n",
              "        vertical-align: top;\n",
              "    }\n",
              "\n",
              "    .dataframe thead th {\n",
              "        text-align: right;\n",
              "    }\n",
              "</style>\n",
              "<table border=\"1\" class=\"dataframe\">\n",
              "  <thead>\n",
              "    <tr style=\"text-align: right;\">\n",
              "      <th></th>\n",
              "      <th>Dates</th>\n",
              "      <th>USDMXN</th>\n",
              "      <th>MXWD</th>\n",
              "      <th>mudis</th>\n",
              "      <th>mbonos</th>\n",
              "      <th>fondo1</th>\n",
              "    </tr>\n",
              "  </thead>\n",
              "  <tbody>\n",
              "    <tr>\n",
              "      <th>0</th>\n",
              "      <td>02/01/2006</td>\n",
              "      <td>10.6360</td>\n",
              "      <td>309.95</td>\n",
              "      <td>224.8676</td>\n",
              "      <td>123.8019</td>\n",
              "      <td>4.058688</td>\n",
              "    </tr>\n",
              "    <tr>\n",
              "      <th>1</th>\n",
              "      <td>03/01/2006</td>\n",
              "      <td>10.6278</td>\n",
              "      <td>315.46</td>\n",
              "      <td>228.5711</td>\n",
              "      <td>123.8724</td>\n",
              "      <td>4.058612</td>\n",
              "    </tr>\n",
              "    <tr>\n",
              "      <th>2</th>\n",
              "      <td>04/01/2006</td>\n",
              "      <td>10.5820</td>\n",
              "      <td>319.05</td>\n",
              "      <td>228.4825</td>\n",
              "      <td>124.2410</td>\n",
              "      <td>4.066191</td>\n",
              "    </tr>\n",
              "    <tr>\n",
              "      <th>3</th>\n",
              "      <td>05/01/2006</td>\n",
              "      <td>10.6323</td>\n",
              "      <td>319.20</td>\n",
              "      <td>228.3067</td>\n",
              "      <td>123.9300</td>\n",
              "      <td>4.068855</td>\n",
              "    </tr>\n",
              "    <tr>\n",
              "      <th>4</th>\n",
              "      <td>06/01/2006</td>\n",
              "      <td>10.5624</td>\n",
              "      <td>322.33</td>\n",
              "      <td>229.4388</td>\n",
              "      <td>124.3573</td>\n",
              "      <td>4.068880</td>\n",
              "    </tr>\n",
              "  </tbody>\n",
              "</table>\n",
              "</div>"
            ],
            "text/plain": [
              "        Dates   USDMXN    MXWD     mudis    mbonos    fondo1\n",
              "0  02/01/2006  10.6360  309.95  224.8676  123.8019  4.058688\n",
              "1  03/01/2006  10.6278  315.46  228.5711  123.8724  4.058612\n",
              "2  04/01/2006  10.5820  319.05  228.4825  124.2410  4.066191\n",
              "3  05/01/2006  10.6323  319.20  228.3067  123.9300  4.068855\n",
              "4  06/01/2006  10.5624  322.33  229.4388  124.3573  4.068880"
            ]
          },
          "metadata": {
            "tags": []
          },
          "execution_count": 32
        }
      ]
    },
    {
      "cell_type": "code",
      "metadata": {
        "colab": {
          "base_uri": "https://localhost:8080/"
        },
        "id": "efqHlFXGGv_2",
        "outputId": "83f04975-9b8f-4b99-ce41-493679c3ddff"
      },
      "source": [
        "df_fondo.shape"
      ],
      "execution_count": null,
      "outputs": [
        {
          "output_type": "execute_result",
          "data": {
            "text/plain": [
              "(3782, 6)"
            ]
          },
          "metadata": {
            "tags": []
          },
          "execution_count": 33
        }
      ]
    },
    {
      "cell_type": "code",
      "metadata": {
        "colab": {
          "base_uri": "https://localhost:8080/"
        },
        "id": "juFDK4kvG8xA",
        "outputId": "ea004737-4d82-4473-b3e5-b762bcc2d3d8"
      },
      "source": [
        "df_fondo.info()"
      ],
      "execution_count": null,
      "outputs": [
        {
          "output_type": "stream",
          "text": [
            "<class 'pandas.core.frame.DataFrame'>\n",
            "RangeIndex: 3782 entries, 0 to 3781\n",
            "Data columns (total 6 columns):\n",
            " #   Column  Non-Null Count  Dtype  \n",
            "---  ------  --------------  -----  \n",
            " 0   Dates   3782 non-null   object \n",
            " 1   USDMXN  3782 non-null   float64\n",
            " 2   MXWD    3782 non-null   float64\n",
            " 3   mudis   3782 non-null   float64\n",
            " 4   mbonos  3782 non-null   float64\n",
            " 5   fondo1  3782 non-null   float64\n",
            "dtypes: float64(5), object(1)\n",
            "memory usage: 177.4+ KB\n"
          ],
          "name": "stdout"
        }
      ]
    },
    {
      "cell_type": "code",
      "metadata": {
        "colab": {
          "base_uri": "https://localhost:8080/",
          "height": 408
        },
        "id": "nBfMC1bQZQaa",
        "outputId": "6ebc050b-64da-480c-915a-78e210ebcd3e"
      },
      "source": [
        "df_fondo.fillna(axis= 1, method= \"bfill\").fillna(0)"
      ],
      "execution_count": null,
      "outputs": [
        {
          "output_type": "execute_result",
          "data": {
            "text/html": [
              "<div>\n",
              "<style scoped>\n",
              "    .dataframe tbody tr th:only-of-type {\n",
              "        vertical-align: middle;\n",
              "    }\n",
              "\n",
              "    .dataframe tbody tr th {\n",
              "        vertical-align: top;\n",
              "    }\n",
              "\n",
              "    .dataframe thead th {\n",
              "        text-align: right;\n",
              "    }\n",
              "</style>\n",
              "<table border=\"1\" class=\"dataframe\">\n",
              "  <thead>\n",
              "    <tr style=\"text-align: right;\">\n",
              "      <th></th>\n",
              "      <th>Dates</th>\n",
              "      <th>USDMXN</th>\n",
              "      <th>MXWD</th>\n",
              "      <th>mudis</th>\n",
              "      <th>mbonos</th>\n",
              "      <th>fondo1</th>\n",
              "    </tr>\n",
              "  </thead>\n",
              "  <tbody>\n",
              "    <tr>\n",
              "      <th>0</th>\n",
              "      <td>02/01/2006</td>\n",
              "      <td>10.6360</td>\n",
              "      <td>309.95</td>\n",
              "      <td>224.8676</td>\n",
              "      <td>123.8019</td>\n",
              "      <td>4.058688</td>\n",
              "    </tr>\n",
              "    <tr>\n",
              "      <th>1</th>\n",
              "      <td>03/01/2006</td>\n",
              "      <td>10.6278</td>\n",
              "      <td>315.46</td>\n",
              "      <td>228.5711</td>\n",
              "      <td>123.8724</td>\n",
              "      <td>4.058612</td>\n",
              "    </tr>\n",
              "    <tr>\n",
              "      <th>2</th>\n",
              "      <td>04/01/2006</td>\n",
              "      <td>10.5820</td>\n",
              "      <td>319.05</td>\n",
              "      <td>228.4825</td>\n",
              "      <td>124.2410</td>\n",
              "      <td>4.066191</td>\n",
              "    </tr>\n",
              "    <tr>\n",
              "      <th>3</th>\n",
              "      <td>05/01/2006</td>\n",
              "      <td>10.6323</td>\n",
              "      <td>319.20</td>\n",
              "      <td>228.3067</td>\n",
              "      <td>123.9300</td>\n",
              "      <td>4.068855</td>\n",
              "    </tr>\n",
              "    <tr>\n",
              "      <th>4</th>\n",
              "      <td>06/01/2006</td>\n",
              "      <td>10.5624</td>\n",
              "      <td>322.33</td>\n",
              "      <td>229.4388</td>\n",
              "      <td>124.3573</td>\n",
              "      <td>4.068880</td>\n",
              "    </tr>\n",
              "    <tr>\n",
              "      <th>...</th>\n",
              "      <td>...</td>\n",
              "      <td>...</td>\n",
              "      <td>...</td>\n",
              "      <td>...</td>\n",
              "      <td>...</td>\n",
              "      <td>...</td>\n",
              "    </tr>\n",
              "    <tr>\n",
              "      <th>3777</th>\n",
              "      <td>24/06/2020</td>\n",
              "      <td>22.7952</td>\n",
              "      <td>521.38</td>\n",
              "      <td>824.6200</td>\n",
              "      <td>453.1013</td>\n",
              "      <td>15.130767</td>\n",
              "    </tr>\n",
              "    <tr>\n",
              "      <th>3778</th>\n",
              "      <td>25/06/2020</td>\n",
              "      <td>22.6599</td>\n",
              "      <td>523.75</td>\n",
              "      <td>827.7795</td>\n",
              "      <td>455.1903</td>\n",
              "      <td>15.053995</td>\n",
              "    </tr>\n",
              "    <tr>\n",
              "      <th>3779</th>\n",
              "      <td>26/06/2020</td>\n",
              "      <td>23.0520</td>\n",
              "      <td>515.81</td>\n",
              "      <td>832.5419</td>\n",
              "      <td>458.9307</td>\n",
              "      <td>15.101678</td>\n",
              "    </tr>\n",
              "    <tr>\n",
              "      <th>3780</th>\n",
              "      <td>29/06/2020</td>\n",
              "      <td>23.0767</td>\n",
              "      <td>519.53</td>\n",
              "      <td>832.7488</td>\n",
              "      <td>459.4288</td>\n",
              "      <td>15.079390</td>\n",
              "    </tr>\n",
              "    <tr>\n",
              "      <th>3781</th>\n",
              "      <td>30/06/2020</td>\n",
              "      <td>22.9924</td>\n",
              "      <td>524.91</td>\n",
              "      <td>832.4766</td>\n",
              "      <td>461.4994</td>\n",
              "      <td>15.079390</td>\n",
              "    </tr>\n",
              "  </tbody>\n",
              "</table>\n",
              "<p>3782 rows × 6 columns</p>\n",
              "</div>"
            ],
            "text/plain": [
              "           Dates   USDMXN    MXWD     mudis    mbonos     fondo1\n",
              "0     02/01/2006  10.6360  309.95  224.8676  123.8019   4.058688\n",
              "1     03/01/2006  10.6278  315.46  228.5711  123.8724   4.058612\n",
              "2     04/01/2006  10.5820  319.05  228.4825  124.2410   4.066191\n",
              "3     05/01/2006  10.6323  319.20  228.3067  123.9300   4.068855\n",
              "4     06/01/2006  10.5624  322.33  229.4388  124.3573   4.068880\n",
              "...          ...      ...     ...       ...       ...        ...\n",
              "3777  24/06/2020  22.7952  521.38  824.6200  453.1013  15.130767\n",
              "3778  25/06/2020  22.6599  523.75  827.7795  455.1903  15.053995\n",
              "3779  26/06/2020  23.0520  515.81  832.5419  458.9307  15.101678\n",
              "3780  29/06/2020  23.0767  519.53  832.7488  459.4288  15.079390\n",
              "3781  30/06/2020  22.9924  524.91  832.4766  461.4994  15.079390\n",
              "\n",
              "[3782 rows x 6 columns]"
            ]
          },
          "metadata": {
            "tags": []
          },
          "execution_count": 35
        }
      ]
    },
    {
      "cell_type": "code",
      "metadata": {
        "colab": {
          "base_uri": "https://localhost:8080/",
          "height": 408
        },
        "id": "plfXhkKGi3yP",
        "outputId": "22b6bf76-3538-416f-ec61-7b457dfe1eaf"
      },
      "source": [
        "df_fondo.replace(\"#N/D\",0)"
      ],
      "execution_count": null,
      "outputs": [
        {
          "output_type": "execute_result",
          "data": {
            "text/html": [
              "<div>\n",
              "<style scoped>\n",
              "    .dataframe tbody tr th:only-of-type {\n",
              "        vertical-align: middle;\n",
              "    }\n",
              "\n",
              "    .dataframe tbody tr th {\n",
              "        vertical-align: top;\n",
              "    }\n",
              "\n",
              "    .dataframe thead th {\n",
              "        text-align: right;\n",
              "    }\n",
              "</style>\n",
              "<table border=\"1\" class=\"dataframe\">\n",
              "  <thead>\n",
              "    <tr style=\"text-align: right;\">\n",
              "      <th></th>\n",
              "      <th>Dates</th>\n",
              "      <th>USDMXN</th>\n",
              "      <th>MXWD</th>\n",
              "      <th>mudis</th>\n",
              "      <th>mbonos</th>\n",
              "      <th>fondo1</th>\n",
              "    </tr>\n",
              "  </thead>\n",
              "  <tbody>\n",
              "    <tr>\n",
              "      <th>0</th>\n",
              "      <td>02/01/2006</td>\n",
              "      <td>10.6360</td>\n",
              "      <td>309.95</td>\n",
              "      <td>224.8676</td>\n",
              "      <td>123.8019</td>\n",
              "      <td>4.058688</td>\n",
              "    </tr>\n",
              "    <tr>\n",
              "      <th>1</th>\n",
              "      <td>03/01/2006</td>\n",
              "      <td>10.6278</td>\n",
              "      <td>315.46</td>\n",
              "      <td>228.5711</td>\n",
              "      <td>123.8724</td>\n",
              "      <td>4.058612</td>\n",
              "    </tr>\n",
              "    <tr>\n",
              "      <th>2</th>\n",
              "      <td>04/01/2006</td>\n",
              "      <td>10.5820</td>\n",
              "      <td>319.05</td>\n",
              "      <td>228.4825</td>\n",
              "      <td>124.2410</td>\n",
              "      <td>4.066191</td>\n",
              "    </tr>\n",
              "    <tr>\n",
              "      <th>3</th>\n",
              "      <td>05/01/2006</td>\n",
              "      <td>10.6323</td>\n",
              "      <td>319.20</td>\n",
              "      <td>228.3067</td>\n",
              "      <td>123.9300</td>\n",
              "      <td>4.068855</td>\n",
              "    </tr>\n",
              "    <tr>\n",
              "      <th>4</th>\n",
              "      <td>06/01/2006</td>\n",
              "      <td>10.5624</td>\n",
              "      <td>322.33</td>\n",
              "      <td>229.4388</td>\n",
              "      <td>124.3573</td>\n",
              "      <td>4.068880</td>\n",
              "    </tr>\n",
              "    <tr>\n",
              "      <th>...</th>\n",
              "      <td>...</td>\n",
              "      <td>...</td>\n",
              "      <td>...</td>\n",
              "      <td>...</td>\n",
              "      <td>...</td>\n",
              "      <td>...</td>\n",
              "    </tr>\n",
              "    <tr>\n",
              "      <th>3777</th>\n",
              "      <td>24/06/2020</td>\n",
              "      <td>22.7952</td>\n",
              "      <td>521.38</td>\n",
              "      <td>824.6200</td>\n",
              "      <td>453.1013</td>\n",
              "      <td>15.130767</td>\n",
              "    </tr>\n",
              "    <tr>\n",
              "      <th>3778</th>\n",
              "      <td>25/06/2020</td>\n",
              "      <td>22.6599</td>\n",
              "      <td>523.75</td>\n",
              "      <td>827.7795</td>\n",
              "      <td>455.1903</td>\n",
              "      <td>15.053995</td>\n",
              "    </tr>\n",
              "    <tr>\n",
              "      <th>3779</th>\n",
              "      <td>26/06/2020</td>\n",
              "      <td>23.0520</td>\n",
              "      <td>515.81</td>\n",
              "      <td>832.5419</td>\n",
              "      <td>458.9307</td>\n",
              "      <td>15.101678</td>\n",
              "    </tr>\n",
              "    <tr>\n",
              "      <th>3780</th>\n",
              "      <td>29/06/2020</td>\n",
              "      <td>23.0767</td>\n",
              "      <td>519.53</td>\n",
              "      <td>832.7488</td>\n",
              "      <td>459.4288</td>\n",
              "      <td>15.079390</td>\n",
              "    </tr>\n",
              "    <tr>\n",
              "      <th>3781</th>\n",
              "      <td>30/06/2020</td>\n",
              "      <td>22.9924</td>\n",
              "      <td>524.91</td>\n",
              "      <td>832.4766</td>\n",
              "      <td>461.4994</td>\n",
              "      <td>15.079390</td>\n",
              "    </tr>\n",
              "  </tbody>\n",
              "</table>\n",
              "<p>3782 rows × 6 columns</p>\n",
              "</div>"
            ],
            "text/plain": [
              "           Dates   USDMXN    MXWD     mudis    mbonos     fondo1\n",
              "0     02/01/2006  10.6360  309.95  224.8676  123.8019   4.058688\n",
              "1     03/01/2006  10.6278  315.46  228.5711  123.8724   4.058612\n",
              "2     04/01/2006  10.5820  319.05  228.4825  124.2410   4.066191\n",
              "3     05/01/2006  10.6323  319.20  228.3067  123.9300   4.068855\n",
              "4     06/01/2006  10.5624  322.33  229.4388  124.3573   4.068880\n",
              "...          ...      ...     ...       ...       ...        ...\n",
              "3777  24/06/2020  22.7952  521.38  824.6200  453.1013  15.130767\n",
              "3778  25/06/2020  22.6599  523.75  827.7795  455.1903  15.053995\n",
              "3779  26/06/2020  23.0520  515.81  832.5419  458.9307  15.101678\n",
              "3780  29/06/2020  23.0767  519.53  832.7488  459.4288  15.079390\n",
              "3781  30/06/2020  22.9924  524.91  832.4766  461.4994  15.079390\n",
              "\n",
              "[3782 rows x 6 columns]"
            ]
          },
          "metadata": {
            "tags": []
          },
          "execution_count": 36
        }
      ]
    },
    {
      "cell_type": "code",
      "metadata": {
        "colab": {
          "base_uri": "https://localhost:8080/"
        },
        "id": "nzAhuAH4c3Jh",
        "outputId": "02f54768-9dbf-4a88-a860-a8c120d47ba1"
      },
      "source": [
        "df_fondo.isnull().any(axis=1)"
      ],
      "execution_count": null,
      "outputs": [
        {
          "output_type": "execute_result",
          "data": {
            "text/plain": [
              "0       False\n",
              "1       False\n",
              "2       False\n",
              "3       False\n",
              "4       False\n",
              "        ...  \n",
              "3777    False\n",
              "3778    False\n",
              "3779    False\n",
              "3780    False\n",
              "3781    False\n",
              "Length: 3782, dtype: bool"
            ]
          },
          "metadata": {
            "tags": []
          },
          "execution_count": 37
        }
      ]
    },
    {
      "cell_type": "code",
      "metadata": {
        "colab": {
          "base_uri": "https://localhost:8080/"
        },
        "id": "KOvnIJ20HSHS",
        "outputId": "e3e5f683-0bdf-4a26-c832-f263878fd6d5"
      },
      "source": [
        "df_fondo[\"Dates\"] = pd.to_datetime(df_fondo[\"Dates\"])\n",
        "df_fondo[\"Dates\"]"
      ],
      "execution_count": null,
      "outputs": [
        {
          "output_type": "execute_result",
          "data": {
            "text/plain": [
              "0      2006-02-01\n",
              "1      2006-03-01\n",
              "2      2006-04-01\n",
              "3      2006-05-01\n",
              "4      2006-06-01\n",
              "          ...    \n",
              "3777   2020-06-24\n",
              "3778   2020-06-25\n",
              "3779   2020-06-26\n",
              "3780   2020-06-29\n",
              "3781   2020-06-30\n",
              "Name: Dates, Length: 3782, dtype: datetime64[ns]"
            ]
          },
          "metadata": {
            "tags": []
          },
          "execution_count": 38
        }
      ]
    },
    {
      "cell_type": "code",
      "metadata": {
        "colab": {
          "base_uri": "https://localhost:8080/"
        },
        "id": "ZY8HNTLgIJQx",
        "outputId": "db753f9d-66e1-4474-c221-516c8dcb66d9"
      },
      "source": [
        "df_fondo[\"fondo1\"] = pd.to_numeric(df_fondo[\"fondo1\"], errors = \"coerce\")\n",
        "df_fondo[\"fondo1\"]"
      ],
      "execution_count": null,
      "outputs": [
        {
          "output_type": "execute_result",
          "data": {
            "text/plain": [
              "0        4.058688\n",
              "1        4.058612\n",
              "2        4.066191\n",
              "3        4.068855\n",
              "4        4.068880\n",
              "          ...    \n",
              "3777    15.130767\n",
              "3778    15.053995\n",
              "3779    15.101678\n",
              "3780    15.079390\n",
              "3781    15.079390\n",
              "Name: fondo1, Length: 3782, dtype: float64"
            ]
          },
          "metadata": {
            "tags": []
          },
          "execution_count": 39
        }
      ]
    },
    {
      "cell_type": "code",
      "metadata": {
        "colab": {
          "base_uri": "https://localhost:8080/"
        },
        "id": "s_SqO-MzbeHo",
        "outputId": "6fc77984-7cfa-4c53-a399-8cc13b8b7fa7"
      },
      "source": [
        "df_fondo.isnull().values"
      ],
      "execution_count": null,
      "outputs": [
        {
          "output_type": "execute_result",
          "data": {
            "text/plain": [
              "array([[False, False, False, False, False, False],\n",
              "       [False, False, False, False, False, False],\n",
              "       [False, False, False, False, False, False],\n",
              "       ...,\n",
              "       [False, False, False, False, False, False],\n",
              "       [False, False, False, False, False, False],\n",
              "       [False, False, False, False, False, False]])"
            ]
          },
          "metadata": {
            "tags": []
          },
          "execution_count": 40
        }
      ]
    },
    {
      "cell_type": "code",
      "metadata": {
        "colab": {
          "base_uri": "https://localhost:8080/"
        },
        "id": "sGSrjQKhhmXL",
        "outputId": "7edbcc4e-d08d-43b8-ff90-b21cca4e6238"
      },
      "source": [
        "df_fondo.isnull().any()"
      ],
      "execution_count": null,
      "outputs": [
        {
          "output_type": "execute_result",
          "data": {
            "text/plain": [
              "Dates     False\n",
              "USDMXN    False\n",
              "MXWD      False\n",
              "mudis     False\n",
              "mbonos    False\n",
              "fondo1    False\n",
              "dtype: bool"
            ]
          },
          "metadata": {
            "tags": []
          },
          "execution_count": 41
        }
      ]
    },
    {
      "cell_type": "code",
      "metadata": {
        "colab": {
          "base_uri": "https://localhost:8080/"
        },
        "id": "cwYuEJsJhwP0",
        "outputId": "e75605e2-d611-4e4a-9e36-b9338642bd8b"
      },
      "source": [
        "df_fondo.isnull().sum()"
      ],
      "execution_count": null,
      "outputs": [
        {
          "output_type": "execute_result",
          "data": {
            "text/plain": [
              "Dates     0\n",
              "USDMXN    0\n",
              "MXWD      0\n",
              "mudis     0\n",
              "mbonos    0\n",
              "fondo1    0\n",
              "dtype: int64"
            ]
          },
          "metadata": {
            "tags": []
          },
          "execution_count": 42
        }
      ]
    },
    {
      "cell_type": "code",
      "metadata": {
        "colab": {
          "base_uri": "https://localhost:8080/"
        },
        "id": "CCQlKHdeHkXi",
        "outputId": "a5eea9bd-e8e4-4ac0-939a-7feb2a238961"
      },
      "source": [
        "df_fondo.info()"
      ],
      "execution_count": null,
      "outputs": [
        {
          "output_type": "stream",
          "text": [
            "<class 'pandas.core.frame.DataFrame'>\n",
            "RangeIndex: 3782 entries, 0 to 3781\n",
            "Data columns (total 6 columns):\n",
            " #   Column  Non-Null Count  Dtype         \n",
            "---  ------  --------------  -----         \n",
            " 0   Dates   3782 non-null   datetime64[ns]\n",
            " 1   USDMXN  3782 non-null   float64       \n",
            " 2   MXWD    3782 non-null   float64       \n",
            " 3   mudis   3782 non-null   float64       \n",
            " 4   mbonos  3782 non-null   float64       \n",
            " 5   fondo1  3782 non-null   float64       \n",
            "dtypes: datetime64[ns](1), float64(5)\n",
            "memory usage: 177.4 KB\n"
          ],
          "name": "stdout"
        }
      ]
    },
    {
      "cell_type": "code",
      "metadata": {
        "id": "0XIsJ1yMHzYJ"
      },
      "source": [
        "import seaborn as sns\n",
        "import matplotlib.pyplot as plt"
      ],
      "execution_count": null,
      "outputs": []
    },
    {
      "cell_type": "code",
      "metadata": {
        "colab": {
          "base_uri": "https://localhost:8080/",
          "height": 265
        },
        "id": "0CIZ30lGMBzX",
        "outputId": "a75eb408-b9cb-44ea-d557-0af7ba54f665"
      },
      "source": [
        "fig, ax = plt.subplots()\n",
        "ax.scatter(df_fondo.mbonos,df_fondo.fondo1)\n",
        "plt.show()"
      ],
      "execution_count": null,
      "outputs": [
        {
          "output_type": "display_data",
          "data": {
            "image/png": "[encoded data removed]",
            "text/plain": [
              "<Figure size 432x288 with 1 Axes>"
            ]
          },
          "metadata": {
            "tags": [],
            "needs_background": "light"
          }
        }
      ]
    },
    {
      "cell_type": "code",
      "metadata": {
        "colab": {
          "base_uri": "https://localhost:8080/",
          "height": 286
        },
        "id": "uVIcDd0YH9_l",
        "outputId": "8a0cfefa-04fa-48f3-b985-6ddde33e75d4"
      },
      "source": [
        "sns.heatmap(df_fondo.corr(), annot=True)"
      ],
      "execution_count": null,
      "outputs": [
        {
          "output_type": "execute_result",
          "data": {
            "text/plain": [
              "<matplotlib.axes._subplots.AxesSubplot at 0x7f2569c9b550>"
            ]
          },
          "metadata": {
            "tags": []
          },
          "execution_count": 46
        },
        {
          "output_type": "display_data",
          "data": {
            "image/png": "[encoded data removed]",
            "text/plain": [
              "<Figure size 432x288 with 2 Axes>"
            ]
          },
          "metadata": {
            "tags": [],
            "needs_background": "light"
          }
        }
      ]
    },
    {
      "cell_type": "code",
      "metadata": {
        "id": "3elOhunZICul"
      },
      "source": [
        "from sklearn import linear_model"
      ],
      "execution_count": null,
      "outputs": []
    },
    {
      "cell_type": "code",
      "metadata": {
        "colab": {
          "base_uri": "https://localhost:8080/"
        },
        "id": "nCZpFEo9USWp",
        "outputId": "97344bbf-fdbc-4202-cc14-7cc8eb5d49ce"
      },
      "source": [
        "matriz = df_fondo.to_numpy()\n",
        "matriz"
      ],
      "execution_count": null,
      "outputs": [
        {
          "output_type": "execute_result",
          "data": {
            "text/plain": [
              "array([[Timestamp('2006-02-01 00:00:00'), 10.636, 309.95, 224.8676,\n",
              "        123.8019, 4.058688],\n",
              "       [Timestamp('2006-03-01 00:00:00'), 10.6278, 315.46, 228.5711,\n",
              "        123.8724, 4.058612],\n",
              "       [Timestamp('2006-04-01 00:00:00'), 10.582, 319.05, 228.4825,\n",
              "        124.241, 4.066191000000001],\n",
              "       ...,\n",
              "       [Timestamp('2020-06-26 00:00:00'), 23.052, 515.81, 832.5419,\n",
              "        458.9307, 15.101678],\n",
              "       [Timestamp('2020-06-29 00:00:00'), 23.0767, 519.53, 832.7488,\n",
              "        459.4288, 15.07939],\n",
              "       [Timestamp('2020-06-30 00:00:00'), 22.9924, 524.91, 832.4766,\n",
              "        461.4994, 15.07939]], dtype=object)"
            ]
          },
          "metadata": {
            "tags": []
          },
          "execution_count": 48
        }
      ]
    },
    {
      "cell_type": "code",
      "metadata": {
        "colab": {
          "base_uri": "https://localhost:8080/"
        },
        "id": "rjhYRTk2WhAk",
        "outputId": "1f6c5a78-99a7-4076-e71b-03032a4f5167"
      },
      "source": [
        "# Variable Independiente o X\n",
        "mbonos = matriz[:,4]\n",
        "mbonos"
      ],
      "execution_count": null,
      "outputs": [
        {
          "output_type": "execute_result",
          "data": {
            "text/plain": [
              "array([123.8019, 123.8724, 124.241, ..., 458.9307, 459.4288, 461.4994],\n",
              "      dtype=object)"
            ]
          },
          "metadata": {
            "tags": []
          },
          "execution_count": 61
        }
      ]
    },
    {
      "cell_type": "code",
      "metadata": {
        "colab": {
          "base_uri": "https://localhost:8080/"
        },
        "id": "cLWKhSUWYMeP",
        "outputId": "8837b458-bd7d-4145-e22b-a114685709a9"
      },
      "source": [
        "mbonos = mbonos.reshape(-1, 1)\n",
        "mbonos"
      ],
      "execution_count": null,
      "outputs": [
        {
          "output_type": "execute_result",
          "data": {
            "text/plain": [
              "array([[123.8019],\n",
              "       [123.8724],\n",
              "       [124.241],\n",
              "       ...,\n",
              "       [458.9307],\n",
              "       [459.4288],\n",
              "       [461.4994]], dtype=object)"
            ]
          },
          "metadata": {
            "tags": []
          },
          "execution_count": 62
        }
      ]
    },
    {
      "cell_type": "code",
      "metadata": {
        "colab": {
          "base_uri": "https://localhost:8080/"
        },
        "id": "zecrPdlEXR0x",
        "outputId": "8850bc5b-5a9a-43c5-92ed-e44969bcf020"
      },
      "source": [
        "# Variable Dependiente o Y\n",
        "fondo1 = matriz[:,5]\n",
        "fondo1"
      ],
      "execution_count": null,
      "outputs": [
        {
          "output_type": "execute_result",
          "data": {
            "text/plain": [
              "array([4.058688, 4.058612, 4.066191000000001, ..., 15.101678, 15.07939,\n",
              "       15.07939], dtype=object)"
            ]
          },
          "metadata": {
            "tags": []
          },
          "execution_count": 63
        }
      ]
    },
    {
      "cell_type": "code",
      "metadata": {
        "colab": {
          "base_uri": "https://localhost:8080/"
        },
        "id": "uK0WU2myYo9O",
        "outputId": "bf22b00d-1b98-4248-e1da-c4f97405d3fd"
      },
      "source": [
        "fondo1 = fondo1.reshape(-1, 1)\n",
        "fondo1"
      ],
      "execution_count": null,
      "outputs": [
        {
          "output_type": "execute_result",
          "data": {
            "text/plain": [
              "array([[4.058688],\n",
              "       [4.058612],\n",
              "       [4.066191000000001],\n",
              "       ...,\n",
              "       [15.101678],\n",
              "       [15.07939],\n",
              "       [15.07939]], dtype=object)"
            ]
          },
          "metadata": {
            "tags": []
          },
          "execution_count": 64
        }
      ]
    },
    {
      "cell_type": "markdown",
      "metadata": {
        "id": "UxF3veL-QbKD"
      },
      "source": [
        "Mínimos Cuadrados"
      ]
    },
    {
      "cell_type": "code",
      "metadata": {
        "colab": {
          "base_uri": "https://localhost:8080/"
        },
        "id": "8sxBpXUXQSCh",
        "outputId": "5c7498b0-0393-42be-c102-6f6414f7ae11"
      },
      "source": [
        "model = linear_model.LinearRegression()\n",
        "model"
      ],
      "execution_count": null,
      "outputs": [
        {
          "output_type": "execute_result",
          "data": {
            "text/plain": [
              "LinearRegression(copy_X=True, fit_intercept=True, n_jobs=None, normalize=False)"
            ]
          },
          "metadata": {
            "tags": []
          },
          "execution_count": 65
        }
      ]
    },
    {
      "cell_type": "code",
      "metadata": {
        "colab": {
          "base_uri": "https://localhost:8080/"
        },
        "id": "h7U_5V6wQzO9",
        "outputId": "63cd7a2b-04d7-4178-fae3-6a78f20404ec"
      },
      "source": [
        "results = model.fit(mbonos,fondo1)\n",
        "results"
      ],
      "execution_count": null,
      "outputs": [
        {
          "output_type": "execute_result",
          "data": {
            "text/plain": [
              "LinearRegression(copy_X=True, fit_intercept=True, n_jobs=None, normalize=False)"
            ]
          },
          "metadata": {
            "tags": []
          },
          "execution_count": 66
        }
      ]
    },
    {
      "cell_type": "code",
      "metadata": {
        "colab": {
          "base_uri": "https://localhost:8080/"
        },
        "id": "hS9k7Xn7TCWb",
        "outputId": "4b76a910-aaa2-46a6-826a-3d25aa702764"
      },
      "source": [
        "results.coef_"
      ],
      "execution_count": null,
      "outputs": [
        {
          "output_type": "execute_result",
          "data": {
            "text/plain": [
              "array([[0.03716381]])"
            ]
          },
          "metadata": {
            "tags": []
          },
          "execution_count": 67
        }
      ]
    },
    {
      "cell_type": "code",
      "metadata": {
        "colab": {
          "base_uri": "https://localhost:8080/"
        },
        "id": "duuOLNXEmzW2",
        "outputId": "577a6cee-6c9b-400a-c8a4-aee757c84ac9"
      },
      "source": [
        "results.intercept_"
      ],
      "execution_count": null,
      "outputs": [
        {
          "output_type": "execute_result",
          "data": {
            "text/plain": [
              "array([-0.91618198])"
            ]
          },
          "metadata": {
            "tags": []
          },
          "execution_count": 68
        }
      ]
    },
    {
      "cell_type": "code",
      "metadata": {
        "colab": {
          "base_uri": "https://localhost:8080/"
        },
        "id": "2SgTdjwxm4Cx",
        "outputId": "c0807b21-f756-4f36-fa31-6c1f707715b9"
      },
      "source": [
        "fondo1_cal = model.predict(mbonos)\n",
        "fondo1_cal"
      ],
      "execution_count": null,
      "outputs": [
        {
          "output_type": "execute_result",
          "data": {
            "text/plain": [
              "array([[ 3.68476879],\n",
              "       [ 3.68738884],\n",
              "       [ 3.70108742],\n",
              "       ...,\n",
              "       [16.13943316],\n",
              "       [16.15794446],\n",
              "       [16.23489585]])"
            ]
          },
          "metadata": {
            "tags": []
          },
          "execution_count": 69
        }
      ]
    },
    {
      "cell_type": "code",
      "metadata": {
        "colab": {
          "base_uri": "https://localhost:8080/"
        },
        "id": "hRiOZ_vvnPB3",
        "outputId": "d0eac01f-a4dd-4ad3-9cb8-4c60c4afdd95"
      },
      "source": [
        "results.score(mbonos,fondo1)"
      ],
      "execution_count": null,
      "outputs": [
        {
          "output_type": "execute_result",
          "data": {
            "text/plain": [
              "0.9779830280506309"
            ]
          },
          "metadata": {
            "tags": []
          },
          "execution_count": 70
        }
      ]
    },
    {
      "cell_type": "code",
      "metadata": {
        "colab": {
          "base_uri": "https://localhost:8080/",
          "height": 282
        },
        "id": "AKSrw5A2oO3X",
        "outputId": "5df8cf73-87db-4293-daf6-14a42e509cd6"
      },
      "source": [
        "plt.scatter(mbonos,fondo1, color= \"lightblue\")\n",
        "plt.plot(mbonos, fondo1_cal, color= \"blue\")"
      ],
      "execution_count": null,
      "outputs": [
        {
          "output_type": "execute_result",
          "data": {
            "text/plain": [
              "[<matplotlib.lines.Line2D at 0x7f2569a86890>]"
            ]
          },
          "metadata": {
            "tags": []
          },
          "execution_count": 72
        },
        {
          "output_type": "display_data",
          "data": {
            "image/png": "[encoded data removed]",
            "text/plain": [
              "<Figure size 432x288 with 1 Axes>"
            ]
          },
          "metadata": {
            "tags": [],
            "needs_background": "light"
          }
        }
      ]
    },
    {
      "cell_type": "code",
      "metadata": {
        "id": "WIud4VU2pWx6"
      },
      "source": [
        ""
      ],
      "execution_count": null,
      "outputs": []
    }
  ]
}